{
 "cells": [
  {
   "cell_type": "code",
   "execution_count": 1,
   "metadata": {},
   "outputs": [],
   "source": [
    "%matplotlib inline\n",
    "import numpy as np\n",
    "import matplotlib.pyplot as plt\n",
    "import math"
   ]
  },
  {
   "cell_type": "code",
   "execution_count": 2,
   "metadata": {},
   "outputs": [],
   "source": [
    "def H(n,x):\n",
    "    if n==-1: return 0\n",
    "    elif n==0: return 1\n",
    "    elif n==1: return 2*x\n",
    "    #elif n==1: return 2*x\n",
    "    else: return 2*x*H(n-1,x)-2*(n-1)*H(n-2,x)\n",
    "    \n",
    "def psi(n,x):\n",
    "    return H(n,x)/np.sqrt((2**n*math.factorial(n)*np.sqrt(np.pi)))*np.exp(-x**2/2)\n",
    "\n",
    "def k(n,x):\n",
    "    return (2*epsilon(n)-x**2)\n",
    "\n",
    "def epsilon(n):\n",
    "    return (n+1/2)"
   ]
  },
  {
   "cell_type": "code",
   "execution_count": 3,
   "metadata": {},
   "outputs": [
    {
     "data": {
      "text/plain": [
       "[<matplotlib.lines.Line2D at 0x284c501be48>]"
      ]
     },
     "execution_count": 3,
     "metadata": {},
     "output_type": "execute_result"
    },
    {
     "data": {
      "image/png": "[encoded data removed]",
      "text/plain": [
       "<Figure size 432x288 with 1 Axes>"
      ]
     },
     "metadata": {},
     "output_type": "display_data"
    }
   ],
   "source": [
    "x = np.linspace(-5,5,100)\n",
    "plt.plot(x,psi(2,x))"
   ]
  },
  {
   "cell_type": "code",
   "execution_count": 4,
   "metadata": {},
   "outputs": [],
   "source": [
    "def numerov(n,h,start,end):\n",
    "    a = 1\n",
    "    steps=int(np.abs(start-end)/h+h)\n",
    "    y = np.zeros(steps)\n",
    "    x = np.zeros(steps)\n",
    "    \n",
    "    for i in range(steps):\n",
    "        if i==0: x[0]=start\n",
    "        else: x[i] = x[0]+i*h\n",
    "            \n",
    "    if (n % 2 == 0):\n",
    "        y[0] = a\n",
    "        y[1] = y[0] - h**2*k(n,x[0])*y[0]/2\n",
    "        print(\"even\")\n",
    "    else: \n",
    "        y[0] = 0\n",
    "        y[1] = -h\n",
    "        print(\"odd\")\n",
    "        \n",
    "    for i in range(1,steps-1): \n",
    "        y[i+1]=(2*(1-5/12*h**2*k(n,x[i]))*y[i]-(1+1/12*h**2*k(n,x[i-1]))*y[i-1])/(1+1/12*h**2*k(n,x[i+1]))\n",
    "        \n",
    "    return x,y"
   ]
  },
  {
   "cell_type": "code",
   "execution_count": null,
   "metadata": {},
   "outputs": [],
   "source": [
    "h = 0.001\n",
    "start = -6\n",
    "end = 6\n",
    "n = 0\n",
    "\n",
    "x,y = numerov(n,h,start,end)\n",
    "y_norm = y/max(y)*max(psi(n,x))\n",
    "\n",
    "plt.plot(x,psi(n,x),label=\"analytic\")\n",
    "plt.plot(x,y_norm,label=\"numerical\")\n",
    "plt.legend()"
   ]
  },
  {
   "cell_type": "code",
   "execution_count": 143,
   "metadata": {},
   "outputs": [],
   "source": [
    "def k(e,x):\n",
    "    return (e-x)\n",
    "\n",
    "def numerov2(e,h,start,end):\n",
    "    a = 1e-6\n",
    "    steps=int(np.abs(start-end)/h+h)\n",
    "    y = np.zeros(steps)\n",
    "    x = np.zeros(steps)\n",
    "    \n",
    "    for i in range(steps):\n",
    "        if i==0: x[0]=start\n",
    "        else: x[i] = x[0]+i*h\n",
    "            \n",
    "    y[0] = a\n",
    "    y[1] = y[0] - h**2*k(e,x[0])*y[0]/2\n",
    "    \n",
    "    for i in range(1,steps-1):\n",
    "        y[i+1]=(2*(1-5/12*h**2*k(e,x[i]))*y[i]-(1+1/12*h**2*k(e,x[i-1]))*y[i-1])/(1+1/12*h**2*k(e,x[i+1]))\n",
    "        \n",
    "    return x,y"
   ]
  },
  {
   "cell_type": "code",
   "execution_count": 144,
   "metadata": {},
   "outputs": [
    {
     "name": "stderr",
     "output_type": "stream",
     "text": [
      "No handles with labels found to put in legend.\n"
     ]
    },
    {
     "data": {
      "text/plain": [
       "<matplotlib.legend.Legend at 0x7fc13e93b2e8>"
      ]
     },
     "execution_count": 144,
     "metadata": {},
     "output_type": "execute_result"
    },
    {
     "data": {
      "image/png": "[encoded data removed]",
      "text/plain": [
       "<Figure size 432x288 with 1 Axes>"
      ]
     },
     "metadata": {
      "needs_background": "light"
     },
     "output_type": "display_data"
    }
   ],
   "source": [
    "h = 0.001\n",
    "start = -2\n",
    "end = 2\n",
    "\n",
    "e = 2.33815\n",
    "#e = 4.087\n",
    "#e = 8.000\n",
    "\n",
    "x,y = numerov2( e, h, start, end)\n",
    "\n",
    "plt.plot( x, y)\n",
    "plt.legend()"
   ]
  },
  {
   "cell_type": "code",
   "execution_count": null,
   "metadata": {},
   "outputs": [],
   "source": []
  },
  {
   "cell_type": "code",
   "execution_count": null,
   "metadata": {},
   "outputs": [],
   "source": []
  }
 ],
 "metadata": {
  "kernelspec": {
   "display_name": "Python 3",
   "language": "python",
   "name": "python3"
  },
  "language_info": {
   "codemirror_mode": {
    "name": "ipython",
    "version": 3
   },
   "file_extension": ".py",
   "mimetype": "text/x-python",
   "name": "python",
   "nbconvert_exporter": "python",
   "pygments_lexer": "ipython3",
   "version": "3.6.3"
  }
 },
 "nbformat": 4,
 "nbformat_minor": 2
}
