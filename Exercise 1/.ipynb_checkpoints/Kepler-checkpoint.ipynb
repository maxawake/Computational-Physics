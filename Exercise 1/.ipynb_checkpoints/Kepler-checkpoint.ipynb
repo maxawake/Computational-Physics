{
 "cells": [
  {
   "cell_type": "code",
   "execution_count": 1,
   "metadata": {},
   "outputs": [],
   "source": [
    "%matplotlib inline\n",
    "import numpy as np\n",
    "import matplotlib.pyplot as plt\n",
    "  \n",
    "    \n",
    "#Values\n",
    "\n",
    "r0=[1,0]       #distance between bodies\n",
    "v0=[1,0]       #initial speed\n",
    "a0=[0,0]\n",
    "\n",
    "t0=0       #start time\n",
    "h=1        #Timestep size\n",
    "n_max=1  #number of timesteps\n",
    "\n",
    "n=np.arange(0,n_max,1)\n",
    "\n",
    "m1=1                   #Mass body 1\n",
    "m2=1                   #Mass body 2\n",
    "my=(m1*m2)/(m1+m2)     #reduced mass\n",
    "\n",
    "#Function\n",
    "\n",
    "def acceleration(r0, a0, h, n_max):\n",
    "    a_n=a0         #Initializing\n",
    "    A=np.zeros(n_max)\n",
    "\n",
    "    for i in range(0, n_max, 1):\n",
    "    \n",
    "            if i==0: a_n=((my)**(-1))*(-1)*(m1*m2)/(r0**2)\n",
    "                         \n",
    "            else:a_n=((my)**(-1))*(-1)*(m1*m2)/(r_n**2) #recent acceleration \n",
    "               \n",
    "                \n",
    "            print(\"Forward\", i, a_n)\n",
    "                \n",
    "            A[i]=a_n\n"
   ]
  },
  {
   "cell_type": "code",
   "execution_count": 2,
   "metadata": {},
   "outputs": [],
   "source": [
    "def velocity(r0, v0, h, n_max):\n",
    "                    v_n=v0         #Initializing\n",
    "                    V=np.zeros(n_max)\n",
    "\n",
    "                    for i in range(0, n_max, 1):\n",
    "\n",
    "                            if i==0: v_n=v0\n",
    "\n",
    "                            else: v_n=v_n+h*a_n #recent velocity \n",
    "\n",
    "\n",
    "                            print(\"Forward\", i, v_n)\n",
    "\n",
    "                            V[i]=v_n\n"
   ]
  },
  {
   "cell_type": "code",
   "execution_count": 3,
   "metadata": {},
   "outputs": [],
   "source": [
    "def position(r0, v0, a0, h, n_max):\n",
    "                                r_n=r0         #Initializing\n",
    "                                R=np.zeros(n_max)\n",
    "\n",
    "                                for i in range(0, n_max, 1):\n",
    "\n",
    "                                        if i==0: r_n=r0\n",
    "\n",
    "                                        else: r_n=r_n+h*v_n #recent position \n",
    "\n",
    "\n",
    "                                        print(\"Forward\", i, r_n)\n",
    "\n",
    "                                        R[i]=r_n"
   ]
  },
  {
   "cell_type": "code",
   "execution_count": null,
   "metadata": {},
   "outputs": [],
   "source": []
  }
 ],
 "metadata": {
  "kernelspec": {
   "display_name": "Python 3",
   "language": "python",
   "name": "python3"
  },
  "language_info": {
   "codemirror_mode": {
    "name": "ipython",
    "version": 3
   },
   "file_extension": ".py",
   "mimetype": "text/x-python",
   "name": "python",
   "nbconvert_exporter": "python",
   "pygments_lexer": "ipython3",
   "version": "3.7.3"
  }
 },
 "nbformat": 4,
 "nbformat_minor": 2
}
