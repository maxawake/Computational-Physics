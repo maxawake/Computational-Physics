{
 "cells": [
  {
   "cell_type": "code",
   "execution_count": 1,
   "metadata": {},
   "outputs": [],
   "source": [
    "import numpy as np\n",
    "\n",
    "def rk4_step(y0, x0, f, h, f_args = {}):\n",
    "    ''' Simple python implementation for one RK4 step. \n",
    "        Inputs:\n",
    "            y_0    - M x 1 numpy array specifying all variables of the ODE at the current time step\n",
    "            x_0    - current time step\n",
    "            f      - function that calculates the derivates of all variables of the ODE\n",
    "            h      - time step size\n",
    "            f_args - Dictionary of additional arguments to be passed to the function f\n",
    "        Output:\n",
    "            yp1 - M x 1 numpy array of variables at time step x0 + h\n",
    "            xp1 - time step x0+h\n",
    "    '''\n",
    "    k1 = h * f(y0, x0, **f_args)\n",
    "    k2 = h * f(y0 + k1/2., x0 + h/2., **f_args)\n",
    "    k3 = h * f(y0 + k2/2., x0 + h/2., **f_args)\n",
    "    k4 = h * f(y0 + k3, x0 + h, **f_args)\n",
    "    \n",
    "    xp1 = x0 + h\n",
    "    yp1 = y0 + 1./6.*(k1 + 2.*k2 + 2.*k3 + k4)\n",
    "    \n",
    "    return(yp1,xp1)\n",
    "\n",
    "def rk4(y0, x0, f, h, n, f_args = {}):\n",
    "    ''' Simple implementation of RK4\n",
    "        Inputs:\n",
    "            y_0    - M x 1 numpy array specifying all variables of the ODE at the current time step\n",
    "            x_0    - current time step\n",
    "            f      - function that calculates the derivates of all variables of the ODE\n",
    "            h      - time step size\n",
    "            n      - number of steps\n",
    "            f_args - Dictionary of additional arguments to be passed to the function f\n",
    "        Output:\n",
    "            yn - N+1 x M numpy array with the results of the integration for every time step (includes y0)\n",
    "            xn - N+1 x 1 numpy array with the time step value (includes start x0)\n",
    "    '''\n",
    "    yn = np.zeros((n+1, y0.shape[0]))\n",
    "    xn = np.zeros(n+1)\n",
    "    yn[0,:] = y0\n",
    "    xn[0] = x0\n",
    "    \n",
    "    for n in np.arange(1,n+1,1):\n",
    "        yn[n,:], xn[n] = rk4_step(y0 = yn[n-1,:], x0 = xn[n-1], f = f, h = h, f_args = f_args)\n",
    "        \n",
    "    return(yn, xn)\n",
    "\n",
    "# Be advised that the integration can take a while for large values of n (e.g >=10^5).\n"
   ]
  },
  {
   "cell_type": "code",
   "execution_count": null,
   "metadata": {},
   "outputs": [],
   "source": []
  }
 ],
 "metadata": {
  "kernelspec": {
   "display_name": "Python 3",
   "language": "python",
   "name": "python3"
  },
  "language_info": {
   "codemirror_mode": {
    "name": "ipython",
    "version": 3
   },
   "file_extension": ".py",
   "mimetype": "text/x-python",
   "name": "python",
   "nbconvert_exporter": "python",
   "pygments_lexer": "ipython3",
   "version": "3.7.3"
  }
 },
 "nbformat": 4,
 "nbformat_minor": 2
}
