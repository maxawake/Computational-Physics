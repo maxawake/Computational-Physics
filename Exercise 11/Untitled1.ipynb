{
 "cells": [
  {
   "cell_type": "code",
   "execution_count": 1,
   "metadata": {},
   "outputs": [],
   "source": [
    "%matplotlib tk\n",
    "import numpy as np\n",
    "import matplotlib.pyplot as plt\n",
    "import matplotlib.animation as animation"
   ]
  },
  {
   "cell_type": "code",
   "execution_count": 2,
   "metadata": {},
   "outputs": [],
   "source": [
    "def nbsum(spin):\n",
    "    sum_i = 0\n",
    "    for i in range(n):\n",
    "        for j in range(n):\n",
    "            sum_i += spin[(i-1)][j]*spin[i][j] + spin[(i+1)%n][j]*spin[i][j] + spin[i][(j-1)]*spin[i][j] + spin[i][(j+1)%n]*spin[i][j]    \n",
    "    return sum_i\n",
    "\n",
    "\n",
    "def h(spin,b,J,i,j):\n",
    "    return -b*np.sum(spin)-J*(spin[(i-1)][j]*spin[i][j] + spin[(i+1)%n][j]*spin[i][j] + spin[i][(j-1)]*spin[i][j] + spin[i][(j+1)%n]*spin[i][j])\n",
    "\n",
    "def H(spin,b,J,i,j):\n",
    "    return -b*np.sum(spin)-J*nbsum(spin)\n",
    "\n",
    "def spin_i(n):\n",
    "    S_i = np.random.random(size=(n,n))\n",
    "    for i in range(n):\n",
    "        for j in range(n):\n",
    "            if S_i[i][j] < 0.5: S_i[i][j] = -1\n",
    "            if S_i[i][j] >= 0.5: S_i[i][j] = 1\n",
    "    return S_i\n",
    "\n",
    "def Ising(S_i,b,J,n):\n",
    "    N = n*n\n",
    "    for i in range(n):\n",
    "        for j in range(n):\n",
    "            if b==0:\n",
    "            \n",
    "                if S_i[i][j] == 1:\n",
    "                    candidate = -1\n",
    "                else:\n",
    "                    candidate = 1\n",
    "\n",
    "                dh = -J * (candidate - S_i[i][j]) * (S_i[(i+1)%n][j] + S_i[i-1][j] + S_i[i][(j+1)%n] + S_i[i][j-1])\n",
    "\n",
    "                if dh < 0 or np.random.random() < np.exp(-dh):\n",
    "                    S_i[i][j] = candidate\n",
    "            else:\n",
    "                S_n = np.random.random()\n",
    "                if S_n < 0.5: S_n = -1\n",
    "                if S_n >= 0.5: S_n = 1\n",
    "\n",
    "                S_i2 = np.copy(S_i)\n",
    "                S_i2[i][j] = S_n\n",
    "\n",
    "                dh = h(S_i2,b,J,i,j)-h(S_i,b,J,i,j)\n",
    "\n",
    "                if dh <= 0 or np.random.random() < np.exp(-dh): S_i[i][j] = S_n \n",
    "\n",
    "    M = np.sum(S_i)/N\n",
    "    E = H(S_i,b,J,i,j)/N\n",
    "\n",
    "    return S_i, M, E\n"
   ]
  },
  {
   "cell_type": "code",
   "execution_count": 10,
   "metadata": {},
   "outputs": [
    {
     "name": "stdout",
     "output_type": "stream",
     "text": [
      "Process: 10 %\n",
      "Process: 20 %\n",
      "Process: 30 %\n",
      "Process: 40 %\n",
      "Process: 50 %\n",
      "Process: 60 %\n",
      "Process: 70 %\n",
      "Process: 80 %\n",
      "Process: 90 %\n",
      "Process: 100 %\n",
      "0.67755859375 -2.598544921875\n"
     ]
    }
   ],
   "source": [
    "b = 0.0\n",
    "J = 0.7\n",
    "sweeps = 100\n",
    "n = 64\n",
    "\n",
    "M_tot = np.array([])\n",
    "E_tot = np.array([])\n",
    "S_array = np.array([])\n",
    "S_0 = spin_i(n)\n",
    "ims = []\n",
    "fig = plt.figure()\n",
    "ev = 0\n",
    "\n",
    "for k in range(sweeps):\n",
    "    if k == 0: S, M_0, E_0 = Ising(S_0,b,J,n)\n",
    "    else: \n",
    "        S_i, M_i, E_i = Ising(S,b,J,n)\n",
    "        \n",
    "        M_tot = np.append(M_tot,M_i)\n",
    "        E_tot = np.append(E_tot,E_i)\n",
    "        S = np.copy(S_i)\n",
    "      #  S_array = np.append(S_array,S)\n",
    "        \n",
    "        im = plt.imshow(S, animated=True, cmap=\"Greys\")\n",
    "        ims.append([im])\n",
    "        \n",
    "    if k%(sweeps/10)==0:\n",
    "        ev += 10\n",
    "        print(\"Process:\",ev,\"%\")\n",
    "\n",
    "m_avg = np.sum(M_tot)/sweeps\n",
    "e_avg = np.sum(E_tot)/sweeps\n",
    "print(m_avg,e_avg)\n",
    "\n",
    "ani = animation.ArtistAnimation(fig, ims, interval=50, blit=True, repeat_delay=1000)\n",
    "#ani.save('Ising_model4.gif', writer=\"pillow\")\n",
    "plt.show()\n",
    "    "
   ]
  },
  {
   "cell_type": "code",
   "execution_count": 30,
   "metadata": {},
   "outputs": [
    {
     "name": "stdout",
     "output_type": "stream",
     "text": [
      "-0.66173828125 -1.5460546875\n"
     ]
    }
   ],
   "source": [
    "b = 0.0\n",
    "J = 0.5\n",
    "sweeps = 100\n",
    "n = 32\n",
    "fig = plt.figure()\n",
    "\n",
    "ims = Animate(b,J,sweeps,n)\n",
    "ani = animation.ArtistAnimation(fig, ims, interval=50, blit=True,\n",
    "                                   repeat_delay=1000)"
   ]
  },
  {
   "cell_type": "code",
   "execution_count": 60,
   "metadata": {},
   "outputs": [
    {
     "name": "stdout",
     "output_type": "stream",
     "text": [
      "[]\n"
     ]
    }
   ],
   "source": [
    "plt.plot(lin,M_tot,\"-\")\n",
    "print(S_array)"
   ]
  },
  {
   "cell_type": "code",
   "execution_count": 61,
   "metadata": {},
   "outputs": [
    {
     "data": {
      "text/plain": [
       "[<matplotlib.lines.Line2D at 0x7fb9c895f9b0>]"
      ]
     },
     "execution_count": 61,
     "metadata": {},
     "output_type": "execute_result"
    }
   ],
   "source": [
    "plt.plot(lin,E_tot)"
   ]
  },
  {
   "cell_type": "code",
   "execution_count": 24,
   "metadata": {},
   "outputs": [
    {
     "name": "stdout",
     "output_type": "stream",
     "text": [
      "[[ 1 -1 -1]\n",
      " [ 1 -1  1]\n",
      " [-1  1  1]]\n"
     ]
    }
   ],
   "source": [
    "s = spin_i(3)\n",
    "print(s)"
   ]
  },
  {
   "cell_type": "code",
   "execution_count": 66,
   "metadata": {},
   "outputs": [],
   "source": [
    "plt.show()"
   ]
  },
  {
   "cell_type": "code",
   "execution_count": 135,
   "metadata": {},
   "outputs": [
    {
     "name": "stdout",
     "output_type": "stream",
     "text": [
      "[[ 1  2  3  4]\n",
      " [ 5  6  7  8]\n",
      " [ 9 10 11 12]\n",
      " [13 14 15 16]]\n"
     ]
    }
   ],
   "source": [
    "a = np.array([[1,2,3,4],[5,6,7,8],[9,10,11,12],[13,14,15,16]])\n",
    "print(a)"
   ]
  },
  {
   "cell_type": "code",
   "execution_count": 152,
   "metadata": {},
   "outputs": [
    {
     "name": "stdout",
     "output_type": "stream",
     "text": [
      "tmp= 17 i= 1 5 j= 1 2\n",
      "tmp= 15 i= 1 6 j= 2 3\n",
      "tmp= 17 i= 1 7 j= 3 4\n",
      "tmp= 19 i= 1 8 j= 0 1\n",
      "tmp= 9 i= 2 9 j= 1 6\n",
      "tmp= 7 i= 2 10 j= 2 7\n",
      "tmp= 9 i= 2 11 j= 3 8\n",
      "tmp= 11 i= 2 12 j= 0 5\n",
      "tmp= 17 i= 3 13 j= 1 10\n",
      "tmp= 15 i= 3 14 j= 2 11\n",
      "tmp= 17 i= 3 15 j= 3 12\n",
      "tmp= 19 i= 3 16 j= 0 9\n",
      "tmp= 25 i= 0 1 j= 1 14\n",
      "tmp= 23 i= 0 2 j= 2 15\n",
      "tmp= 25 i= 0 3 j= 3 16\n",
      "tmp= 27 i= 0 4 j= 0 13\n",
      "2584\n"
     ]
    }
   ],
   "source": [
    "n=4\n",
    "print(nbsum(a))"
   ]
  },
  {
   "cell_type": "code",
   "execution_count": 114,
   "metadata": {},
   "outputs": [
    {
     "name": "stdout",
     "output_type": "stream",
     "text": [
      "0\n",
      "1\n",
      "2\n",
      "3\n",
      "4\n",
      "5\n",
      "6\n",
      "7\n",
      "8\n",
      "9\n"
     ]
    }
   ],
   "source": [
    "for i in range(10):\n",
    "    print(i)"
   ]
  },
  {
   "cell_type": "code",
   "execution_count": null,
   "metadata": {},
   "outputs": [],
   "source": []
  }
 ],
 "metadata": {
  "kernelspec": {
   "display_name": "Python 3",
   "language": "python",
   "name": "python3"
  },
  "language_info": {
   "codemirror_mode": {
    "name": "ipython",
    "version": 3
   },
   "file_extension": ".py",
   "mimetype": "text/x-python",
   "name": "python",
   "nbconvert_exporter": "python",
   "pygments_lexer": "ipython3",
   "version": "3.6.3"
  }
 },
 "nbformat": 4,
 "nbformat_minor": 2
}
