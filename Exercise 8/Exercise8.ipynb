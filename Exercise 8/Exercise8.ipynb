{
 "cells": [
  {
   "cell_type": "code",
   "execution_count": 343,
   "metadata": {},
   "outputs": [],
   "source": [
    "%matplotlib tk\n",
    "import numpy as np\n",
    "import matplotlib.pyplot as plt\n",
    "from sympy.solvers import solve\n",
    "from sympy import Symbol\n",
    "from mpl_toolkits.mplot3d import Axes3D\n",
    "from matplotlib import animation\n",
    "from scipy.optimize import curve_fit"
   ]
  },
  {
   "cell_type": "markdown",
   "metadata": {},
   "source": [
    "Exercise 1"
   ]
  },
  {
   "cell_type": "code",
   "execution_count": 344,
   "metadata": {},
   "outputs": [],
   "source": [
    "def Lorenz(lamb,sig,b,r):\n",
    "    return lamb**3+(1+b+sig)*lamb**2+b*(sig+r)*lamb+2*sig*b*(r-1)\n",
    "\n",
    "def zeros():\n",
    "    x = Symbol('x')\n",
    "    f = solve(Lorenz(x,sig,b,r),x)\n",
    "    print(\"x_0 =\", f[0])\n",
    "    print(\"x_1 =\", f[1])\n",
    "    print(\"x_2 =\", f[2])\n",
    "    return f"
   ]
  },
  {
   "cell_type": "code",
   "execution_count": 346,
   "metadata": {
    "scrolled": true
   },
   "outputs": [
    {
     "name": "stdout",
     "output_type": "stream",
     "text": [
      "x_0 = -10.7126694878696 + 0.e-22*I\n",
      "x_1 = -4.15282623911189 + 0.e-20*I\n",
      "x_2 = 1.19882906031485 + 0.e-20*I\n"
     ]
    },
    {
     "data": {
      "text/plain": [
       "<matplotlib.lines.Line2D at 0x7f0782d10ef0>"
      ]
     },
     "execution_count": 346,
     "metadata": {},
     "output_type": "execute_result"
    }
   ],
   "source": [
    "sig = 10\n",
    "b = 8/3\n",
    "r = 0\n",
    "lamb = np.linspace(-15,5,100)\n",
    "\n",
    "x0 = zeros()\n",
    "\n",
    "plt.grid()\n",
    "plt.plot(lamb,Lorenz(lamb,sig,b,0))\n",
    "plt.plot(lamb,Lorenz(lamb,sig,b,1))\n",
    "plt.plot(lamb,Lorenz(lamb,sig,b,10))\n",
    "\n",
    "plt.axhline(color=\"black\", linewidth=1)\n",
    "#print(intersection(lamb,Lorenz(lamb,sig,b,r),lamb,0))"
   ]
  },
  {
   "cell_type": "markdown",
   "metadata": {},
   "source": [
    "Runge-Kutta-algorithm"
   ]
  },
  {
   "cell_type": "code",
   "execution_count": 347,
   "metadata": {},
   "outputs": [],
   "source": [
    "def rk4_step(y0, t, f, h, f_args = {}):\n",
    "    ''' Simple python implementation for one RK4 step. \n",
    "        Inputs:\n",
    "            y_0    - M x 1 numpy array specifying all variables of the ODE at the current time step\n",
    "            t      - current time step\n",
    "            f      - function that calculates the derivates of all variables of the ODE\n",
    "            h      - time step size\n",
    "            f_args - Dictionary of additional arguments to be passed to the function f\n",
    "        Output:\n",
    "            yp1 - M x 1 numpy array of variables at time step t + h\n",
    "            xp1 - time step t+h\n",
    "    '''\n",
    "    k1 = h * f(y0, t, **f_args)\n",
    "    k2 = h * f(y0 + k1/2., t + h/2., **f_args)\n",
    "    k3 = h * f(y0 + k2/2., t + h/2., **f_args)\n",
    "    k4 = h * f(y0 + k3, t + h, **f_args)\n",
    "    \n",
    "    xp1 = t + h\n",
    "    yp1 = y0 + 1./6.*(k1 + 2.*k2 + 2.*k3 + k4)\n",
    "    \n",
    "    return(yp1,xp1)\n",
    "\n",
    "def rk4(y0, t, f, h, n, f_args = {}):\n",
    "    ''' Simple implementation of RK4\n",
    "        Inputs:\n",
    "            y_0    - M x 1 numpy array specifying all variables of the ODE at the current time step\n",
    "            t      - current time step\n",
    "            f      - function that calculates the derivates of all variables of the ODE\n",
    "            h      - time step size\n",
    "            n      - number of steps\n",
    "            f_args - Dictionary of additional arguments to be passed to the function f\n",
    "        Output:\n",
    "            yn - N+1 x M numpy array with the results of the integration for every time step (includes y0)\n",
    "            xn - N+1 x 1 numpy array with the time step value (includes start t)\n",
    "    '''\n",
    "    yn = np.zeros((n+1, y0.shape[0]))\n",
    "    xn = np.zeros(n+1)\n",
    "    yn[0,:] = y0\n",
    "    xn[0] = t\n",
    "    \n",
    "    for n in np.arange(1,n+1,1):\n",
    "        yn[n,:], xn[n] = rk4_step(y0 = yn[n-1,:], t = xn[n-1], f = f, h = h, f_args = f_args)\n",
    "    return(yn, xn)\n",
    "\n",
    "# Be advised that the integration can take a while for large values of n (e.g >=10^5).\n"
   ]
  },
  {
   "cell_type": "markdown",
   "metadata": {},
   "source": [
    "Exercise 2.1"
   ]
  },
  {
   "cell_type": "code",
   "execution_count": 348,
   "metadata": {},
   "outputs": [],
   "source": [
    "#defining Lorenz-diff.eqs.\n",
    "def x_dot(y,t):\n",
    "    f = np.zeros(3)\n",
    "    f[0] = -sig*(y[0]-y[1])\n",
    "    f[1] = r*y[0]-y[1]-y[0]*y[2]\n",
    "    f[2] = y[0]*y[1]-b*y[2]\n",
    "    return f"
   ]
  },
  {
   "cell_type": "code",
   "execution_count": 349,
   "metadata": {},
   "outputs": [],
   "source": [
    "#defining function to integrate lorenz diff.eqs. depending on values r,stepsize h and steps n\n",
    "def lorenz_solver(r, h, n):\n",
    "\n",
    "    #Initial values\n",
    "    t = 0\n",
    "    sig = 10\n",
    "    b = 8/3\n",
    "    \n",
    "\n",
    "    #Initial values for the position at the fixpoints\n",
    "    if r>1:\n",
    "        a0 = np.sqrt(b*(r-1))\n",
    "        y0 = np.array([a0,a0,r-1])+0.01\n",
    "    else:\n",
    "        y0 = np.array([0,0,0])+0.01\n",
    "\n",
    "    #Computing the trajectories \n",
    "    x_vec,t=rk4(y0, t, x_dot, h, n)\n",
    "\n",
    "    x = x_vec[:,0]\n",
    "    y = x_vec[:,1]\n",
    "    z = x_vec[:,2]\n",
    "    \n",
    "    print(\"finished\")\n",
    "    return x,y,z"
   ]
  },
  {
   "cell_type": "code",
   "execution_count": 352,
   "metadata": {
    "scrolled": true
   },
   "outputs": [
    {
     "name": "stdout",
     "output_type": "stream",
     "text": [
      "finished\n"
     ]
    },
    {
     "data": {
      "text/plain": [
       "[<matplotlib.lines.Line2D at 0x7f0782e77048>]"
      ]
     },
     "execution_count": 352,
     "metadata": {},
     "output_type": "execute_result"
    }
   ],
   "source": [
    "r = 28\n",
    "h = 0.01\n",
    "n = 10000\n",
    "x,y,z = lorenz_solver(r, h, n)\n",
    "\n",
    "#Plot the result in x-y-plane\n",
    "plt.plot(x,y)"
   ]
  },
  {
   "cell_type": "markdown",
   "metadata": {},
   "source": [
    "3D-Plot"
   ]
  },
  {
   "cell_type": "code",
   "execution_count": 353,
   "metadata": {},
   "outputs": [
    {
     "data": {
      "text/plain": [
       "<matplotlib.legend.Legend at 0x7f078abfe5c0>"
      ]
     },
     "execution_count": 353,
     "metadata": {},
     "output_type": "execute_result"
    }
   ],
   "source": [
    "fig = plt.figure()\n",
    "ax = plt.axes(projection='3d')\n",
    "\n",
    "ax.plot3D(y,x,z)\n",
    "ax.scatter3D(a0,a0,r-1,color=\"orange\", label=\"fixed point\")\n",
    "ax.legend()\n",
    "#ax.savefig(\"lorenz2.png\")"
   ]
  },
  {
   "cell_type": "code",
   "execution_count": 354,
   "metadata": {},
   "outputs": [
    {
     "name": "stdout",
     "output_type": "stream",
     "text": [
      "finished\n",
      "0\n",
      "finished\n",
      "1\n",
      "finished\n",
      "2\n",
      "finished\n",
      "3\n",
      "finished\n",
      "4\n"
     ]
    }
   ],
   "source": [
    "#Initial values\n",
    "f = np.array([0.5,1.15,1.3456,24.0,28])\n",
    "h = 0.01\n",
    "n = 10000\n",
    "\n",
    "#define subplot\n",
    "fig, axs = plt.subplots(1, 5, figsize=(15, 4), sharex=False,sharey=False)\n",
    "\n",
    "#loop to create subplots of lorenz-attractor for different values of r\n",
    "for i in range(5):\n",
    "    r = f[i]\n",
    "    x,y,z = lorenz_solver(r,h,n)\n",
    "    axs[i].plot(x, y)\n",
    "    axs[i].set_title(\"r ={}\".format(r))\n",
    "    print(i)\n",
    "plt.savefig(\"lorenz.png\")"
   ]
  },
  {
   "cell_type": "markdown",
   "metadata": {},
   "source": [
    "Exercise 2.2"
   ]
  },
  {
   "cell_type": "code",
   "execution_count": 358,
   "metadata": {},
   "outputs": [
    {
     "name": "stdout",
     "output_type": "stream",
     "text": [
      "finished\n"
     ]
    }
   ],
   "source": [
    "#Initial values\n",
    "r = 27\n",
    "h = 0.01\n",
    "n = 5500\n",
    "x,y,z = lorenz_solver(r,h,n)\n",
    "\n",
    "#Filling an boolean array with true value at local minimum index\n",
    "x = np.r_[True, z[1:] < z[:-1]] & np.r_[z[:-1] < z[1:], True]\n",
    "x[0]= False\n",
    "x[len(z)-1]= False\n",
    "\n",
    "#Defining new arrays for z and step t\n",
    "z_new = np.array([])\n",
    "t_new = np.array([])\n",
    "\n",
    "#Fill arrays with the local minimums\n",
    "for i in range(len(x)):\n",
    "    if x[i] == True: \n",
    "        z_new = np.append(z_new,z[i])\n",
    "        t_new = np.append(t_new,t[i])\n",
    "        \n",
    "#Plot results\n",
    "plt.plot(z_new[:-1],z_new[1:], \".\", label=\"local minima $z_{k+1}=f(z_k)$\")\n",
    "\n",
    "#Fit linear function to the values of z_{k+1} as a function of z_k\n",
    "def linear(x,m,b):\n",
    "    return m*x+b\n",
    "\n",
    "popt,pcov = curve_fit(linear,z_new[:-1],z_new[1:])\n",
    "\n",
    "#Plot the resuluts\n",
    "plt.plot(z_new[:-1],linear(z_new[:-1],*popt),color=\"black\", label=\"Slope m ={}\".format(np.round(popt[0],4)))\n",
    "\n",
    "plt.legend()\n",
    "plt.title(\"r ={}, h={}, n={}\".format(r,h,n))\n",
    "plt.xlabel(\"$z_k$\")\n",
    "plt.ylabel(\"$z_{k+1}=f(z_k)$\")\n",
    "plt.savefig(\"lorenzz.png\")"
   ]
  },
  {
   "cell_type": "markdown",
   "metadata": {},
   "source": [
    "GIF-animation"
   ]
  },
  {
   "cell_type": "code",
   "execution_count": 357,
   "metadata": {
    "scrolled": true
   },
   "outputs": [
    {
     "name": "stdout",
     "output_type": "stream",
     "text": [
      "finished\n"
     ]
    }
   ],
   "source": [
    "#Initial values\n",
    "r = 27\n",
    "h = 0.01\n",
    "n = 10000\n",
    "x,y,z = lorenz_solver(r,h,n)\n",
    "\n",
    "#set 3D plot\n",
    "fig = plt.figure()\n",
    "ax = Axes3D(fig)\n",
    "\n",
    "#define update function for animation\n",
    "def update(num, data, line, obj):\n",
    "    i = int(num*n/N)\n",
    "    line.set_data(data[:2, :i])\n",
    "    obj.set_data(data[:2, i])\n",
    "    line.set_3d_properties(data[2, :i])\n",
    "    obj.set_3d_properties(data[2, i])\n",
    "    ax.view_init(30, num*0.2)\n",
    "\n",
    "#set values for axes\n",
    "N = 1000\n",
    "data = np.array(x_vec).T\n",
    "line, = ax.plot(data[0, 0:1], data[1, 0:1], data[2, 0:1], color=\"black\")\n",
    "obj, = ax.plot(data[0, 0:1], data[1, 0:1], data[2, 0:1],marker=\"o\",color=\"#21a9a0\")\n",
    "\n",
    "# Setting the axes properties\n",
    "ax.set_xlim3d([np.min(x)*1.1, np.max(x)*1.1])\n",
    "ax.set_xlabel('X')\n",
    "\n",
    "ax.set_ylim3d([np.min(y)*1.1, np.max(y)*1.1])\n",
    "ax.set_ylabel('Y')\n",
    "\n",
    "ax.set_zlim3d([np.min(z)*1.1, np.max(z)*1.1])\n",
    "ax.set_zlabel('Z')\n",
    "\n",
    "#animate and save\n",
    "ani = animation.FuncAnimation(fig, update, fargs=(data, line, obj), interval=1, blit=False, frames=N)\n",
    "#ani.save('lorenz.gif', writer='pillow', fps=50)"
   ]
  },
  {
   "cell_type": "code",
   "execution_count": null,
   "metadata": {},
   "outputs": [],
   "source": []
  }
 ],
 "metadata": {
  "kernelspec": {
   "display_name": "Python 3",
   "language": "python",
   "name": "python3"
  },
  "language_info": {
   "codemirror_mode": {
    "name": "ipython",
    "version": 3
   },
   "file_extension": ".py",
   "mimetype": "text/x-python",
   "name": "python",
   "nbconvert_exporter": "python",
   "pygments_lexer": "ipython3",
   "version": "3.7.3"
  }
 },
 "nbformat": 4,
 "nbformat_minor": 2
}
