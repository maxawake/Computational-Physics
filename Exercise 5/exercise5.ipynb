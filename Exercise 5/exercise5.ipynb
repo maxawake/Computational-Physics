{
 "cells": [
  {
   "cell_type": "code",
   "execution_count": 1,
   "metadata": {},
   "outputs": [],
   "source": [
    "import xalglib\n",
    "import scipy.linalg as scl\n",
    "import scipy\n",
    "import numpy as np\n",
    "import matplotlib.pyplot as plt\n",
    "%matplotlib inline"
   ]
  },
  {
   "cell_type": "code",
   "execution_count": 2,
   "metadata": {},
   "outputs": [
    {
     "name": "stdout",
     "output_type": "stream",
     "text": [
      "[[0.5, 0, 0], [0, 1.5, 0], [0, 0, 2.5]]\n",
      "[0.5, 1.5, 2.5] [0.0, 0.0]\n",
      "[0.5 1.5 2.5]\n"
     ]
    }
   ],
   "source": [
    "A = [[1/2,0,0],[0,3/2,0],[0,0,5/2]]\n",
    "\n",
    "print(A)\n",
    "\n",
    "a, tau, d, e = xalglib.smatrixtd(A,3,True)\n",
    "\n",
    "print(d,e)\n",
    "\n",
    "s,v=scl.eigh_tridiagonal(d,e)\n",
    "\n",
    "print(s)"
   ]
  },
  {
   "cell_type": "code",
   "execution_count": 3,
   "metadata": {},
   "outputs": [],
   "source": [
    "#Defining and filling matrix Q^4\n",
    "def q(n):\n",
    "    A = np.zeros([n,n])\n",
    "    for i in range(n):\n",
    "        A[i][i]=6*i**2+6*i+3 #Diagonal elemnts\n",
    "        if i+4<n:\n",
    "            A[i][i+4]=np.sqrt((i+1)*(i+2)*(i+3)*(i+4)) #fourth upper off-diagonal elements\n",
    "        if i+2<n: \n",
    "            A[i][i+2]=(4*i+6)*np.sqrt((i+1)*(i+2)) #second upper off-diagonal elements\n",
    "        if i-2<n:\n",
    "            A[i][i-2]=(4*i-2)*np.sqrt(i*(i-1)) #second bottom off-diagonal elemnts\n",
    "        if i-4<n:\n",
    "            A[i][i-4]=np.sqrt(i*(i-1)*(i-2)*(i-3)) #fourth bottom off-diagonal elements\n",
    "    return A\n",
    "\n",
    "#Defining unpertubed Hamiltonian\n",
    "def h(n):\n",
    "    A=np.zeros([n,n])\n",
    "    for i in range(n):\n",
    "        A[i][i]=(i+1/2)\n",
    "    return A"
   ]
  },
  {
   "cell_type": "code",
   "execution_count": 4,
   "metadata": {},
   "outputs": [],
   "source": [
    "#Defining function to calculate eigenvalues\n",
    "def f(n,lamb):\n",
    "    #Calculating pertubed Hamiltonian\n",
    "    H = h(n)+lamb*q(n)\n",
    "    #Finding the tridiagonal form of the Hamilton matrix\n",
    "    a, tau, d, e = xalglib.smatrixtd(H.tolist(),n,True)\n",
    "    #Finding die eigenvalues by the off-diagonal elements\n",
    "    s,v=scl.eigh_tridiagonal(d,e)\n",
    "    #print(H)\n",
    "    print(\"Eigenvalues:\")\n",
    "    for i in range(10):\n",
    "        print(\"n =\",i,\": E_n =\", np.round(s[i],3))\n",
    "    return s"
   ]
  },
  {
   "cell_type": "code",
   "execution_count": 10,
   "metadata": {},
   "outputs": [
    {
     "name": "stdout",
     "output_type": "stream",
     "text": [
      "Eigenvalues:\n",
      "n = 0 : E_n = 0.669\n",
      "n = 1 : E_n = 2.217\n",
      "n = 2 : E_n = 4.104\n",
      "n = 3 : E_n = 6.218\n",
      "n = 4 : E_n = 8.521\n",
      "n = 5 : E_n = 11.302\n",
      "n = 6 : E_n = 14.582\n",
      "n = 7 : E_n = 21.075\n",
      "n = 8 : E_n = 27.266\n",
      "n = 9 : E_n = 42.837\n"
     ]
    }
   ],
   "source": [
    "n = 15 #Number of Eigenvalues\n",
    "lamb = 0.1 #Pertubation coefficient\n",
    "\n",
    "s = f(n,lamb) #computing the algorithm"
   ]
  },
  {
   "cell_type": "code",
   "execution_count": 6,
   "metadata": {},
   "outputs": [
    {
     "data": {
      "text/plain": [
       "[<matplotlib.lines.Line2D at 0x1f1a6f66438>]"
      ]
     },
     "execution_count": 6,
     "metadata": {},
     "output_type": "execute_result"
    },
    {
     "data": {
      "image/png": "[encoded data removed]",
      "text/plain": [
       "<Figure size 432x288 with 1 Axes>"
      ]
     },
     "metadata": {},
     "output_type": "display_data"
    }
   ],
   "source": [
    "#Plot the results for the eigenvalues against its number n\n",
    "plt.plot(np.arange(0,15),s[:15],\"o\")"
   ]
  },
  {
   "cell_type": "code",
   "execution_count": null,
   "metadata": {},
   "outputs": [],
   "source": []
  },
  {
   "cell_type": "code",
   "execution_count": null,
   "metadata": {},
   "outputs": [],
   "source": []
  }
 ],
 "metadata": {
  "kernelspec": {
   "display_name": "Python 3",
   "language": "python",
   "name": "python3"
  },
  "language_info": {
   "codemirror_mode": {
    "name": "ipython",
    "version": 3
   },
   "file_extension": ".py",
   "mimetype": "text/x-python",
   "name": "python",
   "nbconvert_exporter": "python",
   "pygments_lexer": "ipython3",
   "version": "3.6.3"
  }
 },
 "nbformat": 4,
 "nbformat_minor": 2
}
